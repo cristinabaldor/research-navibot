{
 "cells": [
  {
   "cell_type": "code",
   "execution_count": 1,
   "id": "informational-indie",
   "metadata": {},
   "outputs": [],
   "source": [
    "import json \n",
    "import numpy as np\n",
    "import tensorflow\n",
    "from tensorflow import keras\n",
    "from sklearn.preprocessing import LabelEncoder"
   ]
  },
  {
   "cell_type": "code",
   "execution_count": 2,
   "id": "prostate-transaction",
   "metadata": {},
   "outputs": [],
   "source": [
    "#importing color library to format terminal text\n",
    "import colorama \n",
    "colorama.init()\n",
    "from colorama import Fore, Style, Back"
   ]
  },
  {
   "cell_type": "code",
   "execution_count": 3,
   "id": "union-exclusion",
   "metadata": {},
   "outputs": [],
   "source": [
    "#importing libraries to randomize chatbot answers and use the saved trained model.\n",
    "import random\n",
    "import pickle"
   ]
  },
  {
   "cell_type": "code",
   "execution_count": 4,
   "id": "dependent-sandwich",
   "metadata": {},
   "outputs": [],
   "source": [
    "#reading in the intents file (questions and answers for the bot)\n",
    "with open(\"intents.json\") as file:\n",
    "    data = json.load(file)"
   ]
  },
  {
   "cell_type": "code",
   "execution_count": 5,
   "id": "automatic-techno",
   "metadata": {},
   "outputs": [
    {
     "data": {
      "text/plain": [
       "{'intents': [{'tag': 'greeting',\n",
       "   'patterns': ['Hi', 'Hey', 'Is anyone there?', 'Hello', 'Hay', 'Hola'],\n",
       "   'responses': [\"Hello! I'm Ashe, your Research Navibot at the U. I'm named after Dr. Bowman Foster Ashe, the first president of the University!\",\n",
       "    \"Hi! I'm Ashe, a bot here to help with University research questions. I'm named after Dr. Bowman Foster Ashe, the first president of the U.\",\n",
       "    \"Hi there! My name is Ashe. I've been trained to answer questions about research at the U.\"]},\n",
       "  {'tag': 'goodbye',\n",
       "   'patterns': ['Bye',\n",
       "    'See you later',\n",
       "    'Goodbye',\n",
       "    'Good bye',\n",
       "    'I am done',\n",
       "    'Bye Bye',\n",
       "    'I am going now'],\n",
       "   'responses': [\"See you later! I'm a bot who's always hoping to improve. Please email vprs@miami.edu to let us know about your experience with me.\",\n",
       "    \"Have a nice day! I'm a bot who's always hoping to improve. Please email vprs@miami.edu to let us know about your experience with me.\",\n",
       "    \"Bye! Come back again! I'm a bot who's always hoping to improve. Please email vprs@miami.edu to let us know about your experience with me.\"]},\n",
       "  {'tag': 'thanks',\n",
       "   'patterns': ['Thanks',\n",
       "    'Thank you',\n",
       "    \"That's helpful\",\n",
       "    'Thanks for the help'],\n",
       "   'responses': ['Happy to help! If you have suggestions on how I can improve, please email vprs@miami.edu.',\n",
       "    'Any time! If you have suggestions on how I could be more helpful, please email vprs@miami.edu.',\n",
       "    'My pleasure! If you have suggestions on how I could be more helpful, please email vprs@miami.edu.',\n",
       "    \"You're most welcome! If you have suggestions on how I could be more helpful, please email vprs@miami.edu.\"]},\n",
       "  {'tag': 'about',\n",
       "   'patterns': ['Who are you?', 'What are you?', 'Who you are?'],\n",
       "   'responses': [\"I'm Ashe, your Research Navibot at the U\",\n",
       "    \"I'm Ashe, a bot here to help with University research questions.\",\n",
       "    \"My name is Ashe. I've been trained to answer questions about research at the U\"]},\n",
       "  {'tag': 'name',\n",
       "   'patterns': ['what is your name',\n",
       "    'what should I call you',\n",
       "    'whats your name?'],\n",
       "   'responses': ['You can call me Ashe.',\n",
       "    \"I'm Ashe!\",\n",
       "    'My name is Ashe',\n",
       "    \"I'm Ashe, pleased to meet you!\"]},\n",
       "  {'tag': 'help',\n",
       "   'patterns': ['Could you help me?',\n",
       "    'help',\n",
       "    'help me',\n",
       "    'give me a hand please',\n",
       "    'Can you help?',\n",
       "    'What can you do for me?',\n",
       "    'I need some help',\n",
       "    'I need help',\n",
       "    'support me please'],\n",
       "   'responses': [\"I'm happy to help. How can I assist you?\",\n",
       "    'Absolutely! Tell me what information you need.',\n",
       "    'Of course, how can I support you?']},\n",
       "  {'tag': 'viceprovost',\n",
       "   'patterns': ['Who is the Vice Provost',\n",
       "    'vice provost',\n",
       "    \"What is the Vice Provost's name\",\n",
       "    'who is in charge',\n",
       "    'who leads research'],\n",
       "   'responses': ['The Vice Provost for Research + Scholarship is Dr. Erin Kobetz, PhD, MPH. ',\n",
       "    'Erin Kobetz, PhD, MPH is the Vice Provost for Research + Scholarship.',\n",
       "    'The Vice Provost for Research + Scholarship leads several research-enabling functions at the U.']},\n",
       "  {'tag': 'vprsgeneral',\n",
       "   'patterns': ['what is under vice provost',\n",
       "    'what is vprs',\n",
       "    'who works for vice provost',\n",
       "    'what is research and scholarship',\n",
       "    'what is this office'],\n",
       "   'responses': ['The VPRS oversees several divisions that focus on Research + Scholarship, including Research Development and Evaluation, Research Intelligence, Research Capacity & Operations, Research Administration, and Regulatory Affairs and Assessment.',\n",
       "    \"The VPRS oversees many aspects of Research + Scholarship at the U, from helping find a team and funding to resources for animal studies and human subjects research. Learn more in 'About Research at the University' in the top navigation bar.\",\n",
       "    'We have lots of information to help you navigate the office in the VPRS. Check them out in Research at the University > OVPRS Administrative Areas.']},\n",
       "  {'tag': 'researchadmin',\n",
       "   'patterns': ['what is ORA',\n",
       "    'where is ORA',\n",
       "    'i need to talk to ORA',\n",
       "    'what is research administration',\n",
       "    'what is office of research administration',\n",
       "    'ora',\n",
       "    'research administration'],\n",
       "   'responses': ['Research Administration at the U helps researchers with sponsored proposals, contract negotiations, and managing sponsored funds. Find them at ora.miami.edu.',\n",
       "    'Research Administration has experts working on pre-award, contract negotiations, and post-award management. Find them at ora.miami.edu.',\n",
       "    'Research Administration helps with all financial aspects of applying for and managing grants, and is the entity that approves billing rates for the University. Find them at ora.miami.edu.']},\n",
       "  {'tag': 'complaint',\n",
       "   'patterns': ['have a complaint',\n",
       "    'I want to raise a complaint',\n",
       "    'there is a complaint about a service'],\n",
       "   'responses': ['Please provide us your complaint in order to assist you',\n",
       "    'Please mention your complaint, we will reach you and sorry for any inconvenience caused']},\n",
       "  {'tag': 'complaint',\n",
       "   'patterns': ['have a complaint',\n",
       "    'I want to raise a complaint',\n",
       "    'there is a complaint about a service'],\n",
       "   'responses': ['Please provide us your complaint in order to assist you',\n",
       "    'Please mention your complaint, we will reach you and sorry for any inconvenience caused']},\n",
       "  {'tag': 'complaint',\n",
       "   'patterns': ['have a complaint',\n",
       "    'I want to raise a complaint',\n",
       "    'there is a complaint about a service'],\n",
       "   'responses': ['Please provide us your complaint in order to assist you',\n",
       "    'Please mention your complaint, we will reach you and sorry for any inconvenience caused']},\n",
       "  {'tag': 'complaint',\n",
       "   'patterns': ['have a complaint',\n",
       "    'I want to raise a complaint',\n",
       "    'there is a complaint about a service'],\n",
       "   'responses': ['Please provide us your complaint in order to assist you',\n",
       "    'Please mention your complaint, we will reach you and sorry for any inconvenience caused']},\n",
       "  {'tag': 'complaint',\n",
       "   'patterns': ['have a complaint',\n",
       "    'I want to raise a complaint',\n",
       "    'there is a complaint about a service'],\n",
       "   'responses': ['Please provide us your complaint in order to assist you',\n",
       "    'Please mention your complaint, we will reach you and sorry for any inconvenience caused']},\n",
       "  {'tag': 'complaint',\n",
       "   'patterns': ['have a complaint',\n",
       "    'I want to raise a complaint',\n",
       "    'there is a complaint about a service'],\n",
       "   'responses': ['Please provide us your complaint in order to assist you',\n",
       "    'Please mention your complaint, we will reach you and sorry for any inconvenience caused']},\n",
       "  {'tag': 'complaint',\n",
       "   'patterns': ['have a complaint',\n",
       "    'I want to raise a complaint',\n",
       "    'there is a complaint about a service'],\n",
       "   'responses': ['Please provide us your complaint in order to assist you',\n",
       "    'Please mention your complaint, we will reach you and sorry for any inconvenience caused']}]}"
      ]
     },
     "execution_count": 5,
     "metadata": {},
     "output_type": "execute_result"
    }
   ],
   "source": [
    "data"
   ]
  },
  {
   "cell_type": "code",
   "execution_count": 6,
   "id": "dried-thousand",
   "metadata": {},
   "outputs": [
    {
     "name": "stdout",
     "output_type": "stream",
     "text": [
      "Start messaging with the bot (type quit to stop)!\n"
     ]
    }
   ],
   "source": [
    "#defining the chat behavior and initializing the chat\n",
    "\n",
    "def chat():\n",
    "    # load trained model\n",
    "    model = keras.models.load_model('chat_model')\n",
    "\n",
    "    # load tokenizer object\n",
    "    with open('tokenizer.pickle', 'rb') as handle:\n",
    "        tokenizer = pickle.load(handle)\n",
    "\n",
    "    # load label encoder object\n",
    "    with open('label_encoder.pickle', 'rb') as enc:\n",
    "        lbl_encoder = pickle.load(enc)\n",
    "\n",
    "    # parameters\n",
    "    max_len = 20\n",
    "    \n",
    "    while True:\n",
    "        print(Fore.LIGHTBLUE_EX + \"You: \" + Style.RESET_ALL, end=\"\")\n",
    "        inp = input()\n",
    "        if inp.lower() == \"quit\":\n",
    "            break\n",
    "        result = model.predict(keras.preprocessing.sequence.pad_sequences(tokenizer.texts_to_sequences([inp]),\n",
    "                                             truncating='post', maxlen=max_len))\n",
    "        tag = lbl_encoder.inverse_transform([np.argmax(result)])\n",
    "\n",
    "        for i in data['intents']:\n",
    "            if i['tag'] == tag:\n",
    "                print(Fore.GREEN + \"Ashe:\" + Style.RESET_ALL , np.random.choice(i['responses']))\n",
    "\n",
    "        # print(Fore.GREEN + \"ChatBot:\" + Style.RESET_ALL,random.choice(responses))\n",
    "\n",
    "print(Fore.YELLOW + \"Start messaging with the bot (type quit to stop)!\" + Style.RESET_ALL)\n"
   ]
  },
  {
   "cell_type": "code",
   "execution_count": null,
   "id": "worthy-inquiry",
   "metadata": {},
   "outputs": [
    {
     "name": "stdout",
     "output_type": "stream",
     "text": [
      "You: who are you\n",
      "Ashe: My name is Ashe. I've been trained to answer questions about research at the U\n",
      "You: who is this\n",
      "Ashe: The Vice Provost for Research + Scholarship is Dr. Erin Kobetz, PhD, MPH. \n",
      "You: who are you\n",
      "Ashe: My name is Ashe. I've been trained to answer questions about research at the U\n",
      "You: what are you\n",
      "Ashe: I'm Ashe, your Research Navibot at the U\n",
      "You: "
     ]
    }
   ],
   "source": [
    "chat()"
   ]
  },
  {
   "cell_type": "code",
   "execution_count": null,
   "id": "figured-dinner",
   "metadata": {},
   "outputs": [],
   "source": []
  },
  {
   "cell_type": "code",
   "execution_count": null,
   "id": "integral-bradford",
   "metadata": {},
   "outputs": [],
   "source": []
  },
  {
   "cell_type": "code",
   "execution_count": null,
   "id": "reliable-steering",
   "metadata": {},
   "outputs": [],
   "source": []
  },
  {
   "cell_type": "code",
   "execution_count": null,
   "id": "electoral-boutique",
   "metadata": {},
   "outputs": [],
   "source": []
  },
  {
   "cell_type": "code",
   "execution_count": null,
   "id": "advisory-kruger",
   "metadata": {},
   "outputs": [],
   "source": []
  }
 ],
 "metadata": {
  "kernelspec": {
   "display_name": "Python [conda env:PythonAdv] *",
   "language": "python",
   "name": "conda-env-PythonAdv-py"
  },
  "language_info": {
   "codemirror_mode": {
    "name": "ipython",
    "version": 3
   },
   "file_extension": ".py",
   "mimetype": "text/x-python",
   "name": "python",
   "nbconvert_exporter": "python",
   "pygments_lexer": "ipython3",
   "version": "3.7.9"
  },
  "varInspector": {
   "cols": {
    "lenName": 16,
    "lenType": 16,
    "lenVar": 40
   },
   "kernels_config": {
    "python": {
     "delete_cmd_postfix": "",
     "delete_cmd_prefix": "del ",
     "library": "var_list.py",
     "varRefreshCmd": "print(var_dic_list())"
    },
    "r": {
     "delete_cmd_postfix": ") ",
     "delete_cmd_prefix": "rm(",
     "library": "var_list.r",
     "varRefreshCmd": "cat(var_dic_list()) "
    }
   },
   "types_to_exclude": [
    "module",
    "function",
    "builtin_function_or_method",
    "instance",
    "_Feature"
   ],
   "window_display": false
  }
 },
 "nbformat": 4,
 "nbformat_minor": 5
}
